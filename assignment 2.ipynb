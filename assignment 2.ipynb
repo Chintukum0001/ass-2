{
 "cells": [
  {
   "cell_type": "code",
   "execution_count": 2,
   "id": "c88fa880",
   "metadata": {},
   "outputs": [
    {
     "name": "stdout",
     "output_type": "stream",
     "text": [
      "Edyoda\n",
      "adoydE\n"
     ]
    }
   ],
   "source": [
    "A =input()\n",
    "B =list(A)\n",
    "B.reverse()\n",
    "print(''.join(B))"
   ]
  },
  {
   "cell_type": "code",
   "execution_count": 3,
   "id": "9f6beb19",
   "metadata": {},
   "outputs": [
    {
     "name": "stdout",
     "output_type": "stream",
     "text": [
      "your programme name:Edyoda\n",
      "adoydE\n"
     ]
    }
   ],
   "source": [
    "D = (input(\"your programme name:\")[::-1])\n",
    "print(D)"
   ]
  },
  {
   "cell_type": "code",
   "execution_count": null,
   "id": "d68ee3e3",
   "metadata": {},
   "outputs": [],
   "source": []
  }
 ],
 "metadata": {
  "kernelspec": {
   "display_name": "Python 3 (ipykernel)",
   "language": "python",
   "name": "python3"
  },
  "language_info": {
   "codemirror_mode": {
    "name": "ipython",
    "version": 3
   },
   "file_extension": ".py",
   "mimetype": "text/x-python",
   "name": "python",
   "nbconvert_exporter": "python",
   "pygments_lexer": "ipython3",
   "version": "3.10.1"
  }
 },
 "nbformat": 4,
 "nbformat_minor": 5
}
